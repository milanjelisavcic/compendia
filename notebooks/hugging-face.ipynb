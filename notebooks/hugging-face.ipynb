{
 "cells": [
  {
   "cell_type": "markdown",
   "id": "0aa452cf",
   "metadata": {},
   "source": [
    "## HuggingFace Transformer\n",
    "\n",
    "Source: https://www.machinecurve.com/index.php/2020/12/21/easy-text-summarization-with-huggingface-transformers-and-machine-learning/"
   ]
  },
  {
   "cell_type": "code",
   "execution_count": 1,
   "id": "1b9dd658",
   "metadata": {},
   "outputs": [
    {
     "name": "stderr",
     "output_type": "stream",
     "text": [
      "2021-10-09 18:28:39.386220: W tensorflow/stream_executor/platform/default/dso_loader.cc:64] Could not load dynamic library 'libcudart.so.11.0'; dlerror: libcudart.so.11.0: cannot open shared object file: No such file or directory\n",
      "2021-10-09 18:28:39.386259: I tensorflow/stream_executor/cuda/cudart_stub.cc:29] Ignore above cudart dlerror if you do not have a GPU set up on your machine.\n"
     ]
    }
   ],
   "source": [
    "from transformers import pipeline"
   ]
  },
  {
   "cell_type": "code",
   "execution_count": 2,
   "id": "ebcc7ce0",
   "metadata": {},
   "outputs": [
    {
     "data": {
      "text/plain": [
       "'Question 1 [Last update: 25 May 2018]\\nArticle 42 of MiFID II regulates the provision of services by third country firms at the exclusive\\ninitiative of the client. How should “initiates at its own exclusive initiative the provision of an\\ninvestment service or activity by a third-country firm” be understood in Article 42 of MiFID II?\\nAnswer 1\\nAccording to Article 42 of MiFID II, where a retail client or professional client within the meaning\\nof Section II of Annex II established or situated in the Union initiates at its own exclusive\\ninitiative the provision of an investment service or activity by a third-country firm, the third\\ncountry firm is not subject to the requirements under Article 39.\\nAs provided in recital 111, in order to qualify for Article 42 of MiFID II, “where a third-country\\nfirm solicits clients or potential clients in the Union or promotes or advertises investment\\nservices or activities together with ancillary services in the Union, it should not be deemed as\\na service provided at the own exclusive initiative of the client”.\\nESMA is of the view that such a solicitation, promotion or advertising should be considered\\nregardless of the person through whom it is issued: the third country firm itself, an entity acting\\non its behalf or having close links with such third country firm or any other person acting on\\nbehalf of such entity.\\nAs for the means of such solicitations, ESMA is of the view that every communication means\\nused such as press releases, advertising on internet, brochures, phone calls or face-to-face\\nmeetings should be considered to determine if the client or potential client has been subject to\\nany solicitation, promotion or advertising in the Union on the firm’s investment services or\\nactivities or on financial instruments.\\nFirms are reminded that such clarification is without prejudice to any provisions attached to the\\nmarketing of such products.\\nThe client’s own exclusive initiative shall be assessed in concreto on a case by case basis for\\neach investment service or activity provided, regardless of any contractual clause or disclaimer\\npurporting to state, for example, that the third country firm will be deemed to respond to the\\nexclusive initiative of the client.\\nSuch approach should be used for the purpose of Article 46 of MiFIR as well.'"
      ]
     },
     "execution_count": 2,
     "metadata": {},
     "output_type": "execute_result"
    }
   ],
   "source": [
    "# Open and read the article\n",
    "f = open(\"article.txt\", \"r\", encoding=\"utf8\")\n",
    "to_tokenize = f.read()\n",
    "to_tokenize"
   ]
  },
  {
   "cell_type": "code",
   "execution_count": 3,
   "id": "b87dbf6f",
   "metadata": {},
   "outputs": [
    {
     "name": "stderr",
     "output_type": "stream",
     "text": [
      "No model was supplied, defaulted to sshleifer/distilbart-cnn-12-6 (https://huggingface.co/sshleifer/distilbart-cnn-12-6)\n"
     ]
    }
   ],
   "source": [
    "# Initialize the HuggingFace summarization pipeline\n",
    "summarizer = pipeline(\"summarization\")\n",
    "summarized = summarizer(to_tokenize, min_length=75, max_length=300)"
   ]
  },
  {
   "cell_type": "code",
   "execution_count": 4,
   "id": "338ffa15",
   "metadata": {},
   "outputs": [
    {
     "name": "stdout",
     "output_type": "stream",
     "text": [
      "[{'summary_text': ' Article 42 of MiFID II regulates the provision of services by third country firms at the exclusive initiative of the client . ESMA is of the view that such a solicitation, promotion or advertising should be considered regardless of the person through whom it is issued, such as the firm itself, an entity acting on its behalf or having close links with such third country firm .'}]\n"
     ]
    }
   ],
   "source": [
    "# Print summarized text\n",
    "print(summarized)"
   ]
  },
  {
   "cell_type": "code",
   "execution_count": null,
   "id": "61346277",
   "metadata": {},
   "outputs": [],
   "source": []
  }
 ],
 "metadata": {
  "kernelspec": {
   "display_name": "Python [conda env:compendia] *",
   "language": "python",
   "name": "conda-env-compendia-py"
  },
  "language_info": {
   "codemirror_mode": {
    "name": "ipython",
    "version": 3
   },
   "file_extension": ".py",
   "mimetype": "text/x-python",
   "name": "python",
   "nbconvert_exporter": "python",
   "pygments_lexer": "ipython3",
   "version": "3.8.11"
  }
 },
 "nbformat": 4,
 "nbformat_minor": 5
}
